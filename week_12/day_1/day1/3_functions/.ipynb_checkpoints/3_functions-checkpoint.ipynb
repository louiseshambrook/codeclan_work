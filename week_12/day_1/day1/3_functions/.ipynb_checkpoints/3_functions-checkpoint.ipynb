{
 "cells": [
  {
   "cell_type": "markdown",
   "id": "4281e9d5",
   "metadata": {},
   "source": [
    "# Function basics\n",
    "\n"
   ]
  },
  {
   "cell_type": "code",
   "execution_count": 2,
   "id": "810b5478",
   "metadata": {},
   "outputs": [],
   "source": [
    "def greet():\n",
    "    print('Hey!')\n",
    "    \n",
    "# defining a function"
   ]
  },
  {
   "cell_type": "code",
   "execution_count": 3,
   "id": "c366141e",
   "metadata": {},
   "outputs": [
    {
     "name": "stdout",
     "output_type": "stream",
     "text": [
      "Hey!\n"
     ]
    }
   ],
   "source": [
    "greet()"
   ]
  },
  {
   "cell_type": "code",
   "execution_count": 6,
   "id": "5199e880",
   "metadata": {},
   "outputs": [],
   "source": [
    "def greet():\n",
    "    return 'Hey!'"
   ]
  },
  {
   "cell_type": "code",
   "execution_count": 7,
   "id": "2d9cbb74",
   "metadata": {},
   "outputs": [
    {
     "data": {
      "text/plain": [
       "'Hey!'"
      ]
     },
     "execution_count": 7,
     "metadata": {},
     "output_type": "execute_result"
    }
   ],
   "source": [
    "greet()"
   ]
  },
  {
   "cell_type": "code",
   "execution_count": 9,
   "id": "9a316eb5",
   "metadata": {},
   "outputs": [
    {
     "name": "stdout",
     "output_type": "stream",
     "text": [
      "Hey!\n"
     ]
    }
   ],
   "source": [
    "greeting = greet()\n",
    "print(greeting)"
   ]
  },
  {
   "cell_type": "code",
   "execution_count": 15,
   "id": "5f7a4609",
   "metadata": {},
   "outputs": [],
   "source": [
    "# we can add parameters into functions\n",
    "\n",
    "def greet(name):\n",
    "    return 'Hey ' + name + '!'"
   ]
  },
  {
   "cell_type": "code",
   "execution_count": 16,
   "id": "0bd82ef8",
   "metadata": {},
   "outputs": [
    {
     "name": "stdout",
     "output_type": "stream",
     "text": [
      "Hey David!\n"
     ]
    }
   ],
   "source": [
    "greeting = greet('David')\n",
    "print(greeting)"
   ]
  },
  {
   "cell_type": "code",
   "execution_count": 17,
   "id": "58ff2b47",
   "metadata": {},
   "outputs": [],
   "source": [
    "# you can add multiple arguments\n",
    "\n",
    "def greet(name, time_of_day):\n",
    "    return \"Good \" + time_of_day + \", \" + name"
   ]
  },
  {
   "cell_type": "code",
   "execution_count": 18,
   "id": "447181f3",
   "metadata": {},
   "outputs": [
    {
     "name": "stdout",
     "output_type": "stream",
     "text": [
      "Good afternoon, David\n"
     ]
    }
   ],
   "source": [
    "greeting = greet('David', 'afternoon')\n",
    "print(greeting)"
   ]
  },
  {
   "cell_type": "markdown",
   "id": "dd19d9a0",
   "metadata": {},
   "source": [
    "Define a function called calculate_underscore_mean, which takes in two arguments and returns to average of the two "
   ]
  },
  {
   "cell_type": "code",
   "execution_count": 22,
   "id": "5cffa4c9",
   "metadata": {},
   "outputs": [],
   "source": [
    "def calculate_mean(x, y):\n",
    "    return (x + y) / 2"
   ]
  },
  {
   "cell_type": "code",
   "execution_count": 23,
   "id": "2ff474ff",
   "metadata": {},
   "outputs": [
    {
     "data": {
      "text/plain": [
       "7.5"
      ]
     },
     "execution_count": 23,
     "metadata": {},
     "output_type": "execute_result"
    }
   ],
   "source": [
    "calculate_mean(5, 10)"
   ]
  },
  {
   "cell_type": "code",
   "execution_count": 24,
   "id": "9dcf4bbd",
   "metadata": {},
   "outputs": [],
   "source": [
    "def is_even(number):\n",
    "    if (number % 2 == 0):\n",
    "        return True\n",
    "    else:\n",
    "        return False\n",
    "\n",
    "def sum_of_even_numbers(numbers):\n",
    "    running_total = 0\n",
    "    for number in numbers:\n",
    "        if(is_even(number)):\n",
    "            running_total += number\n",
    "    return running_total"
   ]
  },
  {
   "cell_type": "code",
   "execution_count": 25,
   "id": "8220f9b3",
   "metadata": {},
   "outputs": [],
   "source": [
    "def square(number):\n",
    "    return number * number\n",
    "\n",
    "def modify_number(number, modifier_function):\n",
    "    return modifier_function(number)"
   ]
  },
  {
   "cell_type": "code",
   "execution_count": 26,
   "id": "5e2b40a6",
   "metadata": {},
   "outputs": [
    {
     "data": {
      "text/plain": [
       "9"
      ]
     },
     "execution_count": 26,
     "metadata": {},
     "output_type": "execute_result"
    }
   ],
   "source": [
    "modify_number(3, square)"
   ]
  },
  {
   "cell_type": "markdown",
   "id": "c65a195a",
   "metadata": {},
   "source": [
    "Task\n",
    "Write a function make_price() that takes as input any whole number, and returns it written as a price (i.e. with a '£' in front of the number). For example 5 would become £5, and 123 would become £123. Try out your function a few times to test that it works.\n",
    "Hint In an earlier example you saw that you can join Python strings using the + operator. i.e."
   ]
  },
  {
   "cell_type": "code",
   "execution_count": 38,
   "id": "3b432ea9",
   "metadata": {},
   "outputs": [],
   "source": [
    "def make_price(number):\n",
    "    print(\"£\")\n",
    "    print(number)"
   ]
  },
  {
   "cell_type": "code",
   "execution_count": 39,
   "id": "22dd1aaa",
   "metadata": {},
   "outputs": [
    {
     "name": "stdout",
     "output_type": "stream",
     "text": [
      "£\n",
      "123\n"
     ]
    }
   ],
   "source": [
    "make_price(123)"
   ]
  },
  {
   "cell_type": "code",
   "execution_count": 40,
   "id": "b7a610c2",
   "metadata": {},
   "outputs": [],
   "source": [
    "# alternative (PROPER) solution\n",
    "\n",
    "def make_price(number):\n",
    "    return \"£\" + str(number)"
   ]
  },
  {
   "cell_type": "code",
   "execution_count": 41,
   "id": "07e14bf1",
   "metadata": {},
   "outputs": [
    {
     "data": {
      "text/plain": [
       "'£5'"
      ]
     },
     "execution_count": 41,
     "metadata": {},
     "output_type": "execute_result"
    }
   ],
   "source": [
    "make_price(5)"
   ]
  },
  {
   "cell_type": "code",
   "execution_count": null,
   "id": "3a3f59d8",
   "metadata": {},
   "outputs": [],
   "source": []
  },
  {
   "cell_type": "code",
   "execution_count": null,
   "id": "24d097bc",
   "metadata": {},
   "outputs": [],
   "source": []
  }
 ],
 "metadata": {
  "kernelspec": {
   "display_name": "Python 3",
   "language": "python",
   "name": "python3"
  },
  "language_info": {
   "codemirror_mode": {
    "name": "ipython",
    "version": 3
   },
   "file_extension": ".py",
   "mimetype": "text/x-python",
   "name": "python",
   "nbconvert_exporter": "python",
   "pygments_lexer": "ipython3",
   "version": "3.8.8"
  },
  "varInspector": {
   "cols": {
    "lenName": 16,
    "lenType": 16,
    "lenVar": 40
   },
   "kernels_config": {
    "python": {
     "delete_cmd_postfix": "",
     "delete_cmd_prefix": "del ",
     "library": "var_list.py",
     "varRefreshCmd": "print(var_dic_list())"
    },
    "r": {
     "delete_cmd_postfix": ") ",
     "delete_cmd_prefix": "rm(",
     "library": "var_list.r",
     "varRefreshCmd": "cat(var_dic_list()) "
    }
   },
   "types_to_exclude": [
    "module",
    "function",
    "builtin_function_or_method",
    "instance",
    "_Feature"
   ],
   "window_display": false
  }
 },
 "nbformat": 4,
 "nbformat_minor": 5
}
