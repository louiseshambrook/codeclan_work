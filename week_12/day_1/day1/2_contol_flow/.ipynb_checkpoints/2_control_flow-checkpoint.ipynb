{
 "cells": [
  {
   "cell_type": "markdown",
   "id": "1ffe0b4d",
   "metadata": {},
   "source": [
    "## Control Flow"
   ]
  },
  {
   "cell_type": "markdown",
   "id": "ca24e16a",
   "metadata": {},
   "source": [
    "Recap Task\n",
    "\n",
    "Below is a vector containing the first 5 prime numbers\n",
    "\n",
    "primes = [1, 2, 3, 5, 7]\n",
    "Oops, 1 isn't prime. Remove it from the list.\n",
    "\n",
    "Now add the next 3 prime numbers (11, 13, 17).\n",
    "\n",
    "Now use the method reverse() to reverse the list. Print out the reversed list."
   ]
  },
  {
   "cell_type": "code",
   "execution_count": 2,
   "id": "4e98de48",
   "metadata": {},
   "outputs": [],
   "source": [
    "primes = [1, 2, 3, 5, 7]"
   ]
  },
  {
   "cell_type": "code",
   "execution_count": 11,
   "id": "781852f7",
   "metadata": {},
   "outputs": [
    {
     "data": {
      "text/plain": [
       "[17, 13, 11, 7, 5, 3, 2]"
      ]
     },
     "execution_count": 11,
     "metadata": {},
     "output_type": "execute_result"
    }
   ],
   "source": [
    "primes"
   ]
  },
  {
   "cell_type": "code",
   "execution_count": 6,
   "id": "fede7295",
   "metadata": {},
   "outputs": [
    {
     "data": {
      "text/plain": [
       "[2, 3, 5, 7]"
      ]
     },
     "execution_count": 6,
     "metadata": {},
     "output_type": "execute_result"
    }
   ],
   "source": [
    "primes"
   ]
  },
  {
   "cell_type": "code",
   "execution_count": 7,
   "id": "0aac3d8b",
   "metadata": {},
   "outputs": [],
   "source": [
    "primes.extend([11, 13, 17])"
   ]
  },
  {
   "cell_type": "code",
   "execution_count": 8,
   "id": "16e7d1f2",
   "metadata": {
    "scrolled": true
   },
   "outputs": [
    {
     "data": {
      "text/plain": [
       "[2, 3, 5, 7, 11, 13, 17]"
      ]
     },
     "execution_count": 8,
     "metadata": {},
     "output_type": "execute_result"
    }
   ],
   "source": [
    "primes"
   ]
  },
  {
   "cell_type": "code",
   "execution_count": 9,
   "id": "eca5dc6e",
   "metadata": {},
   "outputs": [],
   "source": [
    "primes.reverse()"
   ]
  },
  {
   "cell_type": "code",
   "execution_count": 10,
   "id": "68b4b4b8",
   "metadata": {},
   "outputs": [
    {
     "data": {
      "text/plain": [
       "[17, 13, 11, 7, 5, 3, 2]"
      ]
     },
     "execution_count": 10,
     "metadata": {},
     "output_type": "execute_result"
    }
   ],
   "source": [
    "primes"
   ]
  },
  {
   "cell_type": "markdown",
   "id": "41627942",
   "metadata": {},
   "source": [
    "## Dictionaries\n",
    "\n",
    "These are a lot like lists in R."
   ]
  },
  {
   "cell_type": "code",
   "execution_count": 12,
   "id": "c7d21667",
   "metadata": {},
   "outputs": [],
   "source": [
    "person_info = {\n",
    "    'name' : 'David',\n",
    "    'age' : 17\n",
    "}"
   ]
  },
  {
   "cell_type": "code",
   "execution_count": 13,
   "id": "ae143cc5",
   "metadata": {},
   "outputs": [
    {
     "data": {
      "text/plain": [
       "{'name': 'David', 'age': 17}"
      ]
     },
     "execution_count": 13,
     "metadata": {},
     "output_type": "execute_result"
    }
   ],
   "source": [
    "person_info"
   ]
  },
  {
   "cell_type": "code",
   "execution_count": 14,
   "id": "957b99ae",
   "metadata": {},
   "outputs": [],
   "source": [
    "person_info2 = {\n",
    "    'name' : 'James',\n",
    "    'name' : 'Jamie',\n",
    "    'age' : 21\n",
    "}"
   ]
  },
  {
   "cell_type": "code",
   "execution_count": 15,
   "id": "7284408c",
   "metadata": {},
   "outputs": [
    {
     "data": {
      "text/plain": [
       "'Jamie'"
      ]
     },
     "execution_count": 15,
     "metadata": {},
     "output_type": "execute_result"
    }
   ],
   "source": [
    "(person_info2['name'])"
   ]
  },
  {
   "cell_type": "markdown",
   "id": "e634d765",
   "metadata": {},
   "source": [
    "Dictionary facts\n",
    "\n",
    "key names must be unique\n",
    "\n",
    "any after usage of a keyname will overwrite the k:v pair\n",
    "\n",
    "key names should be strings"
   ]
  },
  {
   "cell_type": "code",
   "execution_count": 16,
   "id": "cd305149",
   "metadata": {},
   "outputs": [
    {
     "data": {
      "text/plain": [
       "'Jamie'"
      ]
     },
     "execution_count": 16,
     "metadata": {},
     "output_type": "execute_result"
    }
   ],
   "source": [
    "person_info2['name']"
   ]
  },
  {
   "cell_type": "markdown",
   "id": "cb322207",
   "metadata": {},
   "source": [
    "squiggly brackets for defining your dictionary\n",
    "\n",
    "square brackets for indexing your dictionary"
   ]
  },
  {
   "cell_type": "code",
   "execution_count": 17,
   "id": "7603d500",
   "metadata": {},
   "outputs": [
    {
     "data": {
      "text/plain": [
       "dict_keys(['name', 'age'])"
      ]
     },
     "execution_count": 17,
     "metadata": {},
     "output_type": "execute_result"
    }
   ],
   "source": [
    "person_info.keys()"
   ]
  },
  {
   "cell_type": "code",
   "execution_count": 18,
   "id": "3f18a357",
   "metadata": {},
   "outputs": [
    {
     "data": {
      "text/plain": [
       "dict_items([('name', 'David'), ('age', 17)])"
      ]
     },
     "execution_count": 18,
     "metadata": {},
     "output_type": "execute_result"
    }
   ],
   "source": [
    "person_info.items()"
   ]
  },
  {
   "cell_type": "markdown",
   "id": "9f995ea5",
   "metadata": {},
   "source": [
    "Last useful bit\n",
    "\n",
    "`python` equivalent of `R`s `length()`, is `len()`"
   ]
  },
  {
   "cell_type": "code",
   "execution_count": 19,
   "id": "a118364d",
   "metadata": {},
   "outputs": [
    {
     "data": {
      "text/plain": [
       "2"
      ]
     },
     "execution_count": 19,
     "metadata": {},
     "output_type": "execute_result"
    }
   ],
   "source": [
    "len(person_info)"
   ]
  },
  {
   "cell_type": "code",
   "execution_count": 21,
   "id": "ef7a3ef4",
   "metadata": {},
   "outputs": [],
   "source": [
    "student_info = {\n",
    "    'Agnes' : 68,\n",
    "    'Bobby' : 45,\n",
    "    'Charlie' : {'age': 33,\n",
    "                'gender': 'Female'}\n",
    "}"
   ]
  },
  {
   "cell_type": "code",
   "execution_count": 23,
   "id": "07f94eaa",
   "metadata": {},
   "outputs": [
    {
     "data": {
      "text/plain": [
       "'Female'"
      ]
     },
     "execution_count": 23,
     "metadata": {},
     "output_type": "execute_result"
    }
   ],
   "source": [
    "student_info['Charlie']['gender']"
   ]
  },
  {
   "cell_type": "markdown",
   "id": "4b29707b",
   "metadata": {},
   "source": [
    "Updating a dictionary\n",
    "\n",
    "First way"
   ]
  },
  {
   "cell_type": "code",
   "execution_count": 26,
   "id": "cfbe2aac",
   "metadata": {},
   "outputs": [],
   "source": [
    "student_info['David'] = {'age' : 28, 'gender' : 'Male'}"
   ]
  },
  {
   "cell_type": "code",
   "execution_count": 27,
   "id": "517810d6",
   "metadata": {},
   "outputs": [
    {
     "data": {
      "text/plain": [
       "{'Agnes': 68,\n",
       " 'Bobby': 45,\n",
       " 'Charlie': {'age': 33, 'gender': 'Female'},\n",
       " 'David': {'age': 28, 'gender': 'Male'}}"
      ]
     },
     "execution_count": 27,
     "metadata": {},
     "output_type": "execute_result"
    }
   ],
   "source": [
    "student_info"
   ]
  },
  {
   "cell_type": "markdown",
   "id": "be38543e",
   "metadata": {},
   "source": [
    "Second way (is a method)"
   ]
  },
  {
   "cell_type": "code",
   "execution_count": 28,
   "id": "35bb653f",
   "metadata": {},
   "outputs": [],
   "source": [
    "student_info.update({'Elaine' : {'age' : 23, 'gender' : 'Non-binary'}})"
   ]
  },
  {
   "cell_type": "code",
   "execution_count": 29,
   "id": "b4ba4853",
   "metadata": {},
   "outputs": [
    {
     "data": {
      "text/plain": [
       "{'Agnes': 68,\n",
       " 'Bobby': 45,\n",
       " 'Charlie': {'age': 33, 'gender': 'Female'},\n",
       " 'David': {'age': 28, 'gender': 'Male'},\n",
       " 'Elaine': {'age': 23, 'gender': 'Non-binary'}}"
      ]
     },
     "execution_count": 29,
     "metadata": {},
     "output_type": "execute_result"
    }
   ],
   "source": [
    "student_info"
   ]
  },
  {
   "cell_type": "code",
   "execution_count": 30,
   "id": "f479980e",
   "metadata": {},
   "outputs": [
    {
     "data": {
      "text/plain": [
       "{'age': 28, 'gender': 'Male'}"
      ]
     },
     "execution_count": 30,
     "metadata": {},
     "output_type": "execute_result"
    }
   ],
   "source": [
    "student_info.pop('David')"
   ]
  },
  {
   "cell_type": "code",
   "execution_count": 31,
   "id": "4d7f3675",
   "metadata": {},
   "outputs": [
    {
     "data": {
      "text/plain": [
       "{'Agnes': 68,\n",
       " 'Bobby': 45,\n",
       " 'Charlie': {'age': 33, 'gender': 'Female'},\n",
       " 'Elaine': {'age': 23, 'gender': 'Non-binary'}}"
      ]
     },
     "execution_count": 31,
     "metadata": {},
     "output_type": "execute_result"
    }
   ],
   "source": [
    "student_info"
   ]
  },
  {
   "cell_type": "markdown",
   "id": "c2bb5f0c",
   "metadata": {},
   "source": []
  },
  {
   "cell_type": "markdown",
   "id": "d40f073f",
   "metadata": {},
   "source": [
    "## Actually Starting the Control Flow Lesson"
   ]
  },
  {
   "cell_type": "markdown",
   "id": "ec81e678",
   "metadata": {},
   "source": [
    "<strong> Python is indentation sensitive!!"
   ]
  },
  {
   "cell_type": "code",
   "execution_count": null,
   "id": "3fef3152",
   "metadata": {},
   "outputs": [],
   "source": [
    "# R code\n",
    "# not run\n",
    "if (temp > 20) {\n",
    "    print (\"heatwave warning\")\n",
    "}"
   ]
  },
  {
   "cell_type": "code",
   "execution_count": 32,
   "id": "ad4ad0f0",
   "metadata": {},
   "outputs": [
    {
     "name": "stdout",
     "output_type": "stream",
     "text": [
      "Heatwave warning\n"
     ]
    }
   ],
   "source": [
    "temperature = 21\n",
    "if temperature > 20: \n",
    "    print('Heatwave warning')"
   ]
  },
  {
   "cell_type": "code",
   "execution_count": null,
   "id": "8a919931",
   "metadata": {},
   "outputs": [],
   "source": [
    "if condition:\n",
    "    do\n",
    "    \n",
    "# the indentation is very important - it is part of the code. "
   ]
  },
  {
   "cell_type": "markdown",
   "id": "014d170e",
   "metadata": {},
   "source": [
    "If elif else"
   ]
  },
  {
   "cell_type": "code",
   "execution_count": 35,
   "id": "cfbd57c6",
   "metadata": {},
   "outputs": [
    {
     "name": "stdout",
     "output_type": "stream",
     "text": [
      "Moderate\n"
     ]
    }
   ],
   "source": [
    "temperature = 16\n",
    "\n",
    "if temperature > 20:\n",
    "    print('Heatwave')\n",
    "elif temperature < 10:\n",
    "    print('cold')\n",
    "else:\n",
    "    print('Moderate')"
   ]
  },
  {
   "cell_type": "markdown",
   "id": "2faf42ff",
   "metadata": {},
   "source": [
    "## Loops"
   ]
  },
  {
   "cell_type": "code",
   "execution_count": 36,
   "id": "a065750f",
   "metadata": {},
   "outputs": [
    {
     "name": "stdout",
     "output_type": "stream",
     "text": [
      "3\n",
      "6\n",
      "9\n",
      "12\n"
     ]
    }
   ],
   "source": [
    "numbers = [1, 2, 3, 4]\n",
    "\n",
    "# for loop\n",
    "\n",
    "for number in numbers:\n",
    "    print(number * 3)"
   ]
  },
  {
   "cell_type": "markdown",
   "id": "6f142339",
   "metadata": {},
   "source": [
    "One thing that can be useful - looping through a dictionary"
   ]
  },
  {
   "cell_type": "code",
   "execution_count": 37,
   "id": "478acfe9",
   "metadata": {},
   "outputs": [],
   "source": [
    "person = {\n",
    "    'name' : 'David',\n",
    "    'age' : 28,\n",
    "    'languages' : ['R', 'Python', 'SQL']\n",
    "}"
   ]
  },
  {
   "cell_type": "code",
   "execution_count": 38,
   "id": "2fc1ff89",
   "metadata": {},
   "outputs": [
    {
     "data": {
      "text/plain": [
       "{'name': 'David', 'age': 28, 'languages': ['R', 'Python', 'SQL']}"
      ]
     },
     "execution_count": 38,
     "metadata": {},
     "output_type": "execute_result"
    }
   ],
   "source": [
    "person"
   ]
  },
  {
   "cell_type": "code",
   "execution_count": 39,
   "id": "d3c7f394",
   "metadata": {},
   "outputs": [
    {
     "name": "stdout",
     "output_type": "stream",
     "text": [
      "name\n",
      "age\n",
      "languages\n"
     ]
    }
   ],
   "source": [
    "for key in person.keys():\n",
    "    print(key)"
   ]
  },
  {
   "cell_type": "code",
   "execution_count": 41,
   "id": "e00f22ba",
   "metadata": {},
   "outputs": [
    {
     "name": "stdout",
     "output_type": "stream",
     "text": [
      "David\n",
      "28\n",
      "['R', 'Python', 'SQL']\n"
     ]
    }
   ],
   "source": [
    "for value in person.values():\n",
    "    print(value)"
   ]
  },
  {
   "cell_type": "markdown",
   "id": "d7d2ef93",
   "metadata": {},
   "source": [
    "let's combine our control flows together\n",
    "\n",
    "- if logic\n",
    "- `for` loops"
   ]
  },
  {
   "cell_type": "code",
   "execution_count": 42,
   "id": "87cfc231",
   "metadata": {},
   "outputs": [],
   "source": [
    "numbers = [13, 16, 20, 31, 7, 8, -1, 25, 0.5]"
   ]
  },
  {
   "cell_type": "markdown",
   "id": "889ba721",
   "metadata": {},
   "source": [
    "### Goal: Create a list of the even integers in numbers"
   ]
  },
  {
   "cell_type": "code",
   "execution_count": 52,
   "id": "00b034a8",
   "metadata": {},
   "outputs": [
    {
     "data": {
      "text/plain": [
       "[0.5, 0.5, 0.5]"
      ]
     },
     "execution_count": 52,
     "metadata": {},
     "output_type": "execute_result"
    }
   ],
   "source": [
    "# 1. create empty list\n",
    "\n",
    "even_numbers = []\n",
    "# 2. iterate through list of nums\n",
    "\n",
    "for number in numbers:\n",
    "    #3. check if current num is even\n",
    "    if number % 2 == 0:\n",
    "        #4. add num to list of even numbers\n",
    "        even_numbers.append(num)\n",
    "    \n",
    "even_numbers"
   ]
  },
  {
   "cell_type": "markdown",
   "id": "ed59e682",
   "metadata": {},
   "source": [
    "For the numbers 1 to 100, print the number. If the number is divisble by 3, print \"Fizz\". If it's divisible by 5 print 5, print \"Buzz\", and if it's divisible by 3 and 5, print \"FizzBuzz\""
   ]
  },
  {
   "cell_type": "code",
   "execution_count": 57,
   "id": "628c3dd7",
   "metadata": {},
   "outputs": [
    {
     "name": "stdout",
     "output_type": "stream",
     "text": [
      "1\n",
      "2\n",
      "Fizz\n",
      "4\n",
      "Buzz\n",
      "Fizz\n",
      "7\n",
      "8\n",
      "Fizz\n",
      "Buzz\n",
      "11\n",
      "Fizz\n",
      "13\n",
      "14\n",
      "FizzBuzz\n",
      "16\n",
      "17\n",
      "Fizz\n",
      "19\n",
      "Buzz\n",
      "Fizz\n",
      "22\n",
      "23\n",
      "Fizz\n",
      "Buzz\n",
      "26\n",
      "Fizz\n",
      "28\n",
      "29\n",
      "FizzBuzz\n",
      "31\n",
      "32\n",
      "Fizz\n",
      "34\n",
      "Buzz\n",
      "Fizz\n",
      "37\n",
      "38\n",
      "Fizz\n",
      "Buzz\n",
      "41\n",
      "Fizz\n",
      "43\n",
      "44\n",
      "FizzBuzz\n",
      "46\n",
      "47\n",
      "Fizz\n",
      "49\n",
      "Buzz\n",
      "Fizz\n",
      "52\n",
      "53\n",
      "Fizz\n",
      "Buzz\n",
      "56\n",
      "Fizz\n",
      "58\n",
      "59\n",
      "FizzBuzz\n",
      "61\n",
      "62\n",
      "Fizz\n",
      "64\n",
      "Buzz\n",
      "Fizz\n",
      "67\n",
      "68\n",
      "Fizz\n",
      "Buzz\n",
      "71\n",
      "Fizz\n",
      "73\n",
      "74\n",
      "FizzBuzz\n",
      "76\n",
      "77\n",
      "Fizz\n",
      "79\n",
      "Buzz\n",
      "Fizz\n",
      "82\n",
      "83\n",
      "Fizz\n",
      "Buzz\n",
      "86\n",
      "Fizz\n",
      "88\n",
      "89\n",
      "FizzBuzz\n",
      "91\n",
      "92\n",
      "Fizz\n",
      "94\n",
      "Buzz\n",
      "Fizz\n",
      "97\n",
      "98\n",
      "Fizz\n",
      "Buzz\n"
     ]
    }
   ],
   "source": [
    "numbers = range(1, 101)\n",
    "for number in numbers:\n",
    "    if number % 15 == 0:\n",
    "        print('FizzBuzz')\n",
    "    elif number % 5 == 0:\n",
    "        print('Buzz')\n",
    "    elif number % 3 == 0:\n",
    "        print('Fizz')\n",
    "    else:\n",
    "        print(number)"
   ]
  },
  {
   "cell_type": "markdown",
   "id": "c3dcff1a",
   "metadata": {},
   "source": [
    "## List comprehensions\n",
    "\n",
    "- (speedy loops)"
   ]
  },
  {
   "cell_type": "code",
   "execution_count": 59,
   "id": "7e060fec",
   "metadata": {},
   "outputs": [
    {
     "data": {
      "text/plain": [
       "[1, 4, 9, 16]"
      ]
     },
     "execution_count": 59,
     "metadata": {},
     "output_type": "execute_result"
    }
   ],
   "source": [
    "numbers_squared = []\n",
    "\n",
    "numbers = [1, 2, 3, 4]\n",
    "\n",
    "for number in numbers:\n",
    "    numbers_squared.append(number ** 2)\n",
    "    \n",
    "numbers_squared"
   ]
  },
  {
   "cell_type": "code",
   "execution_count": 60,
   "id": "2007daa2",
   "metadata": {},
   "outputs": [],
   "source": [
    "numbers_squared = []"
   ]
  },
  {
   "cell_type": "code",
   "execution_count": 61,
   "id": "5fcb9235",
   "metadata": {},
   "outputs": [],
   "source": [
    "numbers_squared = [number ** 2 for number in numbers]"
   ]
  },
  {
   "cell_type": "code",
   "execution_count": 62,
   "id": "b4ad52ca",
   "metadata": {},
   "outputs": [
    {
     "data": {
      "text/plain": [
       "[1, 4, 9, 16]"
      ]
     },
     "execution_count": 62,
     "metadata": {},
     "output_type": "execute_result"
    }
   ],
   "source": [
    "numbers_squared"
   ]
  },
  {
   "cell_type": "markdown",
   "id": "250833b6",
   "metadata": {},
   "source": [
    "new_list = [operated-on item for item in old_list]"
   ]
  },
  {
   "cell_type": "code",
   "execution_count": 64,
   "id": "e68c4536",
   "metadata": {},
   "outputs": [],
   "source": [
    "multiples_of_12 = []"
   ]
  },
  {
   "cell_type": "code",
   "execution_count": 65,
   "id": "b6adcd3b",
   "metadata": {},
   "outputs": [
    {
     "data": {
      "text/plain": [
       "[0, 12, 24, 36, 48, 60, 72, 84, 96]"
      ]
     },
     "execution_count": 65,
     "metadata": {},
     "output_type": "execute_result"
    }
   ],
   "source": [
    "for number in range(101):\n",
    "    \n",
    "    if number % 12 == 0:\n",
    "        multiples_of_12.append(number)\n",
    "\n",
    "multiples_of_12"
   ]
  },
  {
   "cell_type": "code",
   "execution_count": 66,
   "id": "89b8a699",
   "metadata": {},
   "outputs": [],
   "source": [
    "multiples_of_12 = []"
   ]
  },
  {
   "cell_type": "markdown",
   "id": "a73d7209",
   "metadata": {},
   "source": []
  },
  {
   "cell_type": "code",
   "execution_count": 67,
   "id": "0cbd35e6",
   "metadata": {},
   "outputs": [],
   "source": [
    "multiples_of_12 = [number for number in range(101) if number % 12 == 0]"
   ]
  },
  {
   "cell_type": "code",
   "execution_count": 68,
   "id": "7a9690cb",
   "metadata": {},
   "outputs": [
    {
     "data": {
      "text/plain": [
       "[0, 12, 24, 36, 48, 60, 72, 84, 96]"
      ]
     },
     "execution_count": 68,
     "metadata": {},
     "output_type": "execute_result"
    }
   ],
   "source": [
    "multiples_of_12"
   ]
  },
  {
   "cell_type": "markdown",
   "id": "8a8b21b8",
   "metadata": {},
   "source": [
    "## Dictionary comprehensions\n",
    "\n",
    "are a thing too"
   ]
  },
  {
   "cell_type": "code",
   "execution_count": 69,
   "id": "a51e4a94",
   "metadata": {},
   "outputs": [],
   "source": [
    "fruits = ['apple', 'orange', 'pineapple']"
   ]
  },
  {
   "cell_type": "code",
   "execution_count": 71,
   "id": "ab80f188",
   "metadata": {},
   "outputs": [
    {
     "data": {
      "text/plain": [
       "{'apple': 5, 'orange': 6, 'pineapple': 9}"
      ]
     },
     "execution_count": 71,
     "metadata": {},
     "output_type": "execute_result"
    }
   ],
   "source": [
    "length_of_fruits = {fruit:len(fruit) for fruit in fruits}\n",
    "length_of_fruits"
   ]
  },
  {
   "cell_type": "markdown",
   "id": "54710066",
   "metadata": {},
   "source": [
    "Task\n",
    "\n",
    "Rewrite these\n",
    "\n",
    "first loop  \n",
    "primes = []\n",
    "for i in range(2, 100):\n",
    "    if i % 2 != 0 and i % 3 != 0 and i % 5 != 0 and i % 7 !=0 and i % 11 != 0:\n",
    "        primes.append(i)\n",
    "\n",
    "second loop  \n",
    "ordinal_dict = {}\n",
    "\n",
    "for number in range(4, 11):\n",
    "    ordinal_dict[number] = str(number) + 'th'"
   ]
  },
  {
   "cell_type": "code",
   "execution_count": 74,
   "id": "375d61b4",
   "metadata": {},
   "outputs": [
    {
     "data": {
      "text/plain": [
       "[13,\n",
       " 17,\n",
       " 19,\n",
       " 23,\n",
       " 29,\n",
       " 31,\n",
       " 37,\n",
       " 41,\n",
       " 43,\n",
       " 47,\n",
       " 53,\n",
       " 59,\n",
       " 61,\n",
       " 67,\n",
       " 71,\n",
       " 73,\n",
       " 79,\n",
       " 83,\n",
       " 89,\n",
       " 97]"
      ]
     },
     "execution_count": 74,
     "metadata": {},
     "output_type": "execute_result"
    }
   ],
   "source": [
    "# from\n",
    "primes = []\n",
    "for i in range(2, 100):\n",
    "    if i % 2 != 0 and i % 3 != 0 and i % 5 != 0 and i % 7 !=0 and i % 11 != 0:\n",
    "        primes.append(i)\n",
    "\n",
    "# to\n",
    "\n",
    "primes = [i for i in range(2, 100) if i % 2 != 0 and i % 3 != 0 and i % 5 != 0 and i % 7 !=0 and i % 11 != 0]\n",
    "primes"
   ]
  },
  {
   "cell_type": "code",
   "execution_count": 75,
   "id": "299317c3",
   "metadata": {},
   "outputs": [],
   "source": [
    "#from\n",
    "ordinal_dict = {}\n",
    "\n",
    "for number in range(4, 11):\n",
    "    ordinal_dict[number] = str(number) + 'th'\n",
    "    \n",
    "#to\n",
    "\n",
    "ordinal_dict = {number:str(number) + 'th' for number in range(4, 11)}"
   ]
  },
  {
   "cell_type": "code",
   "execution_count": 76,
   "id": "01faa5f0",
   "metadata": {},
   "outputs": [
    {
     "data": {
      "text/plain": [
       "{4: '4th', 5: '5th', 6: '6th', 7: '7th', 8: '8th', 9: '9th', 10: '10th'}"
      ]
     },
     "execution_count": 76,
     "metadata": {},
     "output_type": "execute_result"
    }
   ],
   "source": [
    "ordinal_dict"
   ]
  },
  {
   "cell_type": "code",
   "execution_count": null,
   "id": "10cab1ff",
   "metadata": {},
   "outputs": [],
   "source": []
  },
  {
   "cell_type": "code",
   "execution_count": null,
   "id": "b349f91f",
   "metadata": {},
   "outputs": [],
   "source": []
  },
  {
   "cell_type": "code",
   "execution_count": null,
   "id": "6bbea343",
   "metadata": {},
   "outputs": [],
   "source": []
  },
  {
   "cell_type": "code",
   "execution_count": null,
   "id": "82a76f3f",
   "metadata": {},
   "outputs": [],
   "source": []
  },
  {
   "cell_type": "code",
   "execution_count": null,
   "id": "a9da527f",
   "metadata": {},
   "outputs": [],
   "source": []
  },
  {
   "cell_type": "code",
   "execution_count": null,
   "id": "e7bf6f40",
   "metadata": {},
   "outputs": [],
   "source": []
  },
  {
   "cell_type": "markdown",
   "id": "ca219e3d",
   "metadata": {},
   "source": []
  }
 ],
 "metadata": {
  "kernelspec": {
   "display_name": "Python 3",
   "language": "python",
   "name": "python3"
  },
  "language_info": {
   "codemirror_mode": {
    "name": "ipython",
    "version": 3
   },
   "file_extension": ".py",
   "mimetype": "text/x-python",
   "name": "python",
   "nbconvert_exporter": "python",
   "pygments_lexer": "ipython3",
   "version": "3.8.8"
  },
  "varInspector": {
   "cols": {
    "lenName": 16,
    "lenType": 16,
    "lenVar": 40
   },
   "kernels_config": {
    "python": {
     "delete_cmd_postfix": "",
     "delete_cmd_prefix": "del ",
     "library": "var_list.py",
     "varRefreshCmd": "print(var_dic_list())"
    },
    "r": {
     "delete_cmd_postfix": ") ",
     "delete_cmd_prefix": "rm(",
     "library": "var_list.r",
     "varRefreshCmd": "cat(var_dic_list()) "
    }
   },
   "types_to_exclude": [
    "module",
    "function",
    "builtin_function_or_method",
    "instance",
    "_Feature"
   ],
   "window_display": false
  }
 },
 "nbformat": 4,
 "nbformat_minor": 5
}
