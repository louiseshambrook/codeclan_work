{
 "cells": [
  {
   "cell_type": "markdown",
   "id": "062bbba3",
   "metadata": {},
   "source": [
    "## Intro to python"
   ]
  },
  {
   "cell_type": "markdown",
   "id": "de7036aa",
   "metadata": {},
   "source": [
    "Pretty much universal\n",
    "- General programming language \n",
    "\n",
    "R\n",
    "- statistical programming language\n",
    "\n",
    "Both are open-source, and built on C\n",
    "But R was built on S, and mainly built for stats, where python was built for all types of development\n",
    "\n",
    "Python has a lot of data science/analysis packages"
   ]
  },
  {
   "cell_type": "code",
   "execution_count": 2,
   "id": "00cf9ec3",
   "metadata": {},
   "outputs": [],
   "source": [
    "# 1. variable assignment\n",
    "\n",
    "my_fave_colour = \"purple\""
   ]
  },
  {
   "cell_type": "code",
   "execution_count": 3,
   "id": "8da9de13",
   "metadata": {},
   "outputs": [
    {
     "data": {
      "text/plain": [
       "'purple'"
      ]
     },
     "execution_count": 3,
     "metadata": {},
     "output_type": "execute_result"
    }
   ],
   "source": [
    "my_fave_colour"
   ]
  },
  {
   "cell_type": "code",
   "execution_count": 4,
   "id": "000b19c5",
   "metadata": {},
   "outputs": [
    {
     "name": "stdout",
     "output_type": "stream",
     "text": [
      "purple\n"
     ]
    }
   ],
   "source": [
    "# variable output\n",
    "print(my_fave_colour)"
   ]
  },
  {
   "cell_type": "code",
   "execution_count": 5,
   "id": "0692f3f6",
   "metadata": {},
   "outputs": [],
   "source": [
    "#2. Data types."
   ]
  },
  {
   "cell_type": "markdown",
   "id": "7c159851",
   "metadata": {},
   "source": [
    "character\n",
    "numeric - int/dbl\n",
    "logical\n",
    "datetime"
   ]
  },
  {
   "cell_type": "code",
   "execution_count": 7,
   "id": "2583948b",
   "metadata": {},
   "outputs": [
    {
     "data": {
      "text/plain": [
       "str"
      ]
     },
     "execution_count": 7,
     "metadata": {},
     "output_type": "execute_result"
    }
   ],
   "source": [
    "# strings\n",
    "type(my_fave_colour)"
   ]
  },
  {
   "cell_type": "code",
   "execution_count": 20,
   "id": "3f76e3da",
   "metadata": {},
   "outputs": [],
   "source": [
    "x = 2\n",
    "y = -83.7\n",
    "david_needs_tea = True\n",
    "davids_favourites = [\"purple\", \"27\", \"R\", False]"
   ]
  },
  {
   "cell_type": "code",
   "execution_count": 10,
   "id": "45e4fb0e",
   "metadata": {},
   "outputs": [
    {
     "data": {
      "text/plain": [
       "int"
      ]
     },
     "execution_count": 10,
     "metadata": {},
     "output_type": "execute_result"
    }
   ],
   "source": [
    "# int = integer\n",
    "type(x)"
   ]
  },
  {
   "cell_type": "code",
   "execution_count": 11,
   "id": "76f86d9b",
   "metadata": {},
   "outputs": [
    {
     "data": {
      "text/plain": [
       "float"
      ]
     },
     "execution_count": 11,
     "metadata": {},
     "output_type": "execute_result"
    }
   ],
   "source": [
    "# float = floating point\n",
    "type(y)"
   ]
  },
  {
   "cell_type": "code",
   "execution_count": 12,
   "id": "10cc9748",
   "metadata": {},
   "outputs": [
    {
     "data": {
      "text/plain": [
       "bool"
      ]
     },
     "execution_count": 12,
     "metadata": {},
     "output_type": "execute_result"
    }
   ],
   "source": [
    "# bool = boolean\n",
    "type(david_needs_tea)"
   ]
  },
  {
   "cell_type": "code",
   "execution_count": 22,
   "id": "ea8ccecd",
   "metadata": {},
   "outputs": [
    {
     "data": {
      "text/plain": [
       "'27'"
      ]
     },
     "execution_count": 22,
     "metadata": {},
     "output_type": "execute_result"
    }
   ],
   "source": [
    "davids_favourites[1]\n",
    "\n",
    "# this is a list, and list indexing"
   ]
  },
  {
   "cell_type": "markdown",
   "id": "0fb49d2d",
   "metadata": {},
   "source": [
    "## A key distinction\n",
    "\n"
   ]
  },
  {
   "cell_type": "code",
   "execution_count": null,
   "id": "f50f759b",
   "metadata": {},
   "outputs": [],
   "source": [
    "# not run\n",
    "my_fave_number <- 27\n",
    "\n",
    "my_fave_number == c(27)\n",
    "\n",
    "# output TRUE"
   ]
  },
  {
   "cell_type": "code",
   "execution_count": 23,
   "id": "0be3d8a1",
   "metadata": {},
   "outputs": [],
   "source": [
    "single_item_list = [5]"
   ]
  },
  {
   "cell_type": "code",
   "execution_count": 24,
   "id": "d34506a3",
   "metadata": {
    "scrolled": true
   },
   "outputs": [
    {
     "data": {
      "text/plain": [
       "False"
      ]
     },
     "execution_count": 24,
     "metadata": {},
     "output_type": "execute_result"
    }
   ],
   "source": [
    "5 == single_item_list"
   ]
  },
  {
   "cell_type": "code",
   "execution_count": 25,
   "id": "d2ec3255",
   "metadata": {},
   "outputs": [],
   "source": [
    "# python starts indexes at 0"
   ]
  },
  {
   "cell_type": "markdown",
   "id": "487fc7db",
   "metadata": {},
   "source": [
    "## Python bool values are title case, not upper"
   ]
  },
  {
   "cell_type": "markdown",
   "id": "d70afd8d",
   "metadata": {},
   "source": [
    "True or False\n",
    "not\n",
    "TRUE or FALSE\n",
    "\n",
    "syntax highlighting will keep you right"
   ]
  },
  {
   "cell_type": "markdown",
   "id": "17b58062",
   "metadata": {},
   "source": [
    "# Lists\n",
    "\n",
    "## 1. creating with range()\n",
    "## 2. List indexing"
   ]
  },
  {
   "cell_type": "code",
   "execution_count": 29,
   "id": "3e5b8e46",
   "metadata": {},
   "outputs": [
    {
     "data": {
      "text/plain": [
       "range(5, 10)"
      ]
     },
     "execution_count": 29,
     "metadata": {},
     "output_type": "execute_result"
    }
   ],
   "source": [
    "range(5, 10)"
   ]
  },
  {
   "cell_type": "code",
   "execution_count": 31,
   "id": "5f9e544a",
   "metadata": {},
   "outputs": [
    {
     "data": {
      "text/plain": [
       "range"
      ]
     },
     "execution_count": 31,
     "metadata": {},
     "output_type": "execute_result"
    }
   ],
   "source": [
    "type(range(5, 10))"
   ]
  },
  {
   "cell_type": "code",
   "execution_count": 33,
   "id": "1a88afbf",
   "metadata": {},
   "outputs": [
    {
     "data": {
      "text/plain": [
       "[5, 6, 7, 8, 9]"
      ]
     },
     "execution_count": 33,
     "metadata": {},
     "output_type": "execute_result"
    }
   ],
   "source": [
    "# range doesn't include top value - is the equivalent of seq() in R\n",
    "list(range(5,10))"
   ]
  },
  {
   "cell_type": "code",
   "execution_count": 34,
   "id": "4f220547",
   "metadata": {},
   "outputs": [
    {
     "data": {
      "text/plain": [
       "[0, 2, 4, 6, 8, 10, 12, 14, 16, 18, 20]"
      ]
     },
     "execution_count": 34,
     "metadata": {},
     "output_type": "execute_result"
    }
   ],
   "source": [
    "two_times_table = list(range(0,22,2))\n",
    "\n",
    "two_times_table"
   ]
  },
  {
   "cell_type": "code",
   "execution_count": 35,
   "id": "529f5446",
   "metadata": {},
   "outputs": [
    {
     "data": {
      "text/plain": [
       "0"
      ]
     },
     "execution_count": 35,
     "metadata": {},
     "output_type": "execute_result"
    }
   ],
   "source": [
    "# first item = 0th position\n",
    "two_times_table[0]"
   ]
  },
  {
   "cell_type": "code",
   "execution_count": 36,
   "id": "082c4a23",
   "metadata": {},
   "outputs": [
    {
     "data": {
      "text/plain": [
       "20"
      ]
     },
     "execution_count": 36,
     "metadata": {},
     "output_type": "execute_result"
    }
   ],
   "source": [
    "# last item\n",
    "two_times_table[-1]"
   ]
  },
  {
   "cell_type": "markdown",
   "id": "6d9c7138",
   "metadata": {},
   "source": [
    "## 2.1 List slicing"
   ]
  },
  {
   "cell_type": "code",
   "execution_count": 37,
   "id": "e52a8825",
   "metadata": {},
   "outputs": [
    {
     "data": {
      "text/plain": [
       "[0, 2]"
      ]
     },
     "execution_count": 37,
     "metadata": {},
     "output_type": "execute_result"
    }
   ],
   "source": [
    "# first two items; doesn't include top of slice\n",
    "two_times_table[0:2]"
   ]
  },
  {
   "cell_type": "code",
   "execution_count": 38,
   "id": "931b9538",
   "metadata": {},
   "outputs": [
    {
     "data": {
      "text/plain": [
       "[0, 2, 4]"
      ]
     },
     "execution_count": 38,
     "metadata": {},
     "output_type": "execute_result"
    }
   ],
   "source": [
    "# the first 3 items; implicit slicing\n",
    "two_times_table[:3]"
   ]
  },
  {
   "cell_type": "code",
   "execution_count": 39,
   "id": "0d18430f",
   "metadata": {},
   "outputs": [
    {
     "data": {
      "text/plain": [
       "[16, 18, 20]"
      ]
     },
     "execution_count": 39,
     "metadata": {},
     "output_type": "execute_result"
    }
   ],
   "source": [
    "# the last 3 items\n",
    "two_times_table[-3:]"
   ]
  },
  {
   "cell_type": "markdown",
   "id": "602295d8",
   "metadata": {},
   "source": [
    "Task - 5 minutes\n",
    "\n",
    "Create a list with the following data, and assign it to a variable named things:\n",
    "'Apple' 'Grape' 101 'Onion' False\n",
    "\n",
    "Make sure that you don't use quotes around 101 and False.\n",
    "\n",
    "Extract the first element of the list.\n",
    "\n",
    "Extract the last element of the list.\n",
    "\n",
    "Extract everything except the last element of the list.\n",
    "\n",
    "What is the type of:\n",
    "\n",
    "the 3rd element?\n",
    "the 4th element?\n",
    "the 5th element?\n",
    "Create a list with the following data, using the range() function.\n",
    "11, 12, 13, 14, 15"
   ]
  },
  {
   "cell_type": "code",
   "execution_count": 40,
   "id": "37db6ff8",
   "metadata": {},
   "outputs": [],
   "source": [
    "things = ['Apple', 'Grape', 101, 'Onion', False]"
   ]
  },
  {
   "cell_type": "code",
   "execution_count": 41,
   "id": "ad0cdfca",
   "metadata": {},
   "outputs": [
    {
     "data": {
      "text/plain": [
       "'Apple'"
      ]
     },
     "execution_count": 41,
     "metadata": {},
     "output_type": "execute_result"
    }
   ],
   "source": [
    "things[0]"
   ]
  },
  {
   "cell_type": "code",
   "execution_count": 50,
   "id": "7ccff84d",
   "metadata": {},
   "outputs": [
    {
     "data": {
      "text/plain": [
       "False"
      ]
     },
     "execution_count": 50,
     "metadata": {},
     "output_type": "execute_result"
    }
   ],
   "source": [
    "things[-1]"
   ]
  },
  {
   "cell_type": "code",
   "execution_count": 43,
   "id": "8108d7c7",
   "metadata": {},
   "outputs": [
    {
     "data": {
      "text/plain": [
       "['Apple', 'Grape', 101, 'Onion']"
      ]
     },
     "execution_count": 43,
     "metadata": {},
     "output_type": "execute_result"
    }
   ],
   "source": [
    "things[0:4]"
   ]
  },
  {
   "cell_type": "code",
   "execution_count": 44,
   "id": "957e5dd9",
   "metadata": {},
   "outputs": [
    {
     "data": {
      "text/plain": [
       "int"
      ]
     },
     "execution_count": 44,
     "metadata": {},
     "output_type": "execute_result"
    }
   ],
   "source": [
    "type(things[2])"
   ]
  },
  {
   "cell_type": "code",
   "execution_count": 45,
   "id": "9b174451",
   "metadata": {},
   "outputs": [
    {
     "data": {
      "text/plain": [
       "str"
      ]
     },
     "execution_count": 45,
     "metadata": {},
     "output_type": "execute_result"
    }
   ],
   "source": [
    "type(things[3])"
   ]
  },
  {
   "cell_type": "code",
   "execution_count": 46,
   "id": "14bc22a2",
   "metadata": {},
   "outputs": [
    {
     "data": {
      "text/plain": [
       "bool"
      ]
     },
     "execution_count": 46,
     "metadata": {},
     "output_type": "execute_result"
    }
   ],
   "source": [
    "type(things[-1])"
   ]
  },
  {
   "cell_type": "code",
   "execution_count": 51,
   "id": "d7bfb65d",
   "metadata": {},
   "outputs": [
    {
     "data": {
      "text/plain": [
       "[11, 12, 13, 14, 15]"
      ]
     },
     "execution_count": 51,
     "metadata": {},
     "output_type": "execute_result"
    }
   ],
   "source": [
    "list(range(11, 16))"
   ]
  },
  {
   "cell_type": "markdown",
   "id": "61040ea7",
   "metadata": {},
   "source": [
    "## Methods - list methods"
   ]
  },
  {
   "cell_type": "code",
   "execution_count": null,
   "id": "bf8d84c3",
   "metadata": {},
   "outputs": [],
   "source": [
    "# not run\n",
    "some_function(arg1=..., arg2=...)"
   ]
  },
  {
   "cell_type": "code",
   "execution_count": 53,
   "id": "8a621ca7",
   "metadata": {},
   "outputs": [
    {
     "data": {
      "text/plain": [
       "10"
      ]
     },
     "execution_count": 53,
     "metadata": {},
     "output_type": "execute_result"
    }
   ],
   "source": [
    "sum([1,2,3,4])"
   ]
  },
  {
   "cell_type": "markdown",
   "id": "03a11c88",
   "metadata": {},
   "source": [
    "## Almost everything in Python is an object\n",
    "\n",
    "(Python is an object-oriented programming language (OOP))\n",
    "\n",
    "- functions are often/sometimes used in a way we're less used to than in R\n",
    "\n",
    "Methods are functions that 'live' on classes / objects"
   ]
  },
  {
   "cell_type": "code",
   "execution_count": 54,
   "id": "f3f1cedc",
   "metadata": {},
   "outputs": [],
   "source": [
    "numbers = [19, 67, 12, 9]"
   ]
  },
  {
   "cell_type": "code",
   "execution_count": 55,
   "id": "e8c1e8d8",
   "metadata": {},
   "outputs": [],
   "source": [
    "numbers.sort()"
   ]
  },
  {
   "cell_type": "code",
   "execution_count": 57,
   "id": "f9f384dc",
   "metadata": {},
   "outputs": [
    {
     "data": {
      "text/plain": [
       "[9, 12, 19, 67]"
      ]
     },
     "execution_count": 57,
     "metadata": {},
     "output_type": "execute_result"
    }
   ],
   "source": [
    "numbers"
   ]
  },
  {
   "cell_type": "markdown",
   "id": "3b947220",
   "metadata": {},
   "source": [
    "In python, objects have\n",
    "- attributes\n",
    "- methods"
   ]
  },
  {
   "cell_type": "markdown",
   "id": "5d91aa6e",
   "metadata": {},
   "source": [
    "More list methods\n",
    "\n",
    "- `.pop()`\n",
    "- `.remove()`\n",
    "- `.append()`\n",
    "- `.extend()`\n",
    "\n",
    "All of these operate **in-place**"
   ]
  },
  {
   "cell_type": "code",
   "execution_count": 58,
   "id": "474cd2d8",
   "metadata": {},
   "outputs": [
    {
     "data": {
      "text/plain": [
       "67"
      ]
     },
     "execution_count": 58,
     "metadata": {},
     "output_type": "execute_result"
    }
   ],
   "source": [
    "numbers.pop()"
   ]
  },
  {
   "cell_type": "code",
   "execution_count": 60,
   "id": "c2170a84",
   "metadata": {},
   "outputs": [],
   "source": [
    "numbers.append(68)"
   ]
  },
  {
   "cell_type": "code",
   "execution_count": 61,
   "id": "0e1504f1",
   "metadata": {},
   "outputs": [
    {
     "data": {
      "text/plain": [
       "[9, 12, 19, 68, 68]"
      ]
     },
     "execution_count": 61,
     "metadata": {},
     "output_type": "execute_result"
    }
   ],
   "source": [
    "numbers"
   ]
  },
  {
   "cell_type": "code",
   "execution_count": 62,
   "id": "fe6fdda6",
   "metadata": {},
   "outputs": [],
   "source": [
    "numbers.remove(12)"
   ]
  },
  {
   "cell_type": "code",
   "execution_count": 63,
   "id": "2d8d4051",
   "metadata": {},
   "outputs": [
    {
     "data": {
      "text/plain": [
       "[9, 19, 68, 68]"
      ]
     },
     "execution_count": 63,
     "metadata": {},
     "output_type": "execute_result"
    }
   ],
   "source": [
    "numbers"
   ]
  },
  {
   "cell_type": "markdown",
   "id": "e8db770d",
   "metadata": {},
   "source": [
    "Append and extend behave a little differently when we give them a list"
   ]
  },
  {
   "cell_type": "code",
   "execution_count": 64,
   "id": "ce297b35",
   "metadata": {},
   "outputs": [],
   "source": [
    "numbers.append([72, 14, -9])"
   ]
  },
  {
   "cell_type": "code",
   "execution_count": 65,
   "id": "1a14defd",
   "metadata": {},
   "outputs": [
    {
     "data": {
      "text/plain": [
       "[9, 19, 68, 68, [72, 14, -9]]"
      ]
     },
     "execution_count": 65,
     "metadata": {},
     "output_type": "execute_result"
    }
   ],
   "source": [
    "numbers"
   ]
  },
  {
   "cell_type": "code",
   "execution_count": 66,
   "id": "9c81f580",
   "metadata": {},
   "outputs": [
    {
     "data": {
      "text/plain": [
       "[9, 19, 68, 68]"
      ]
     },
     "execution_count": 66,
     "metadata": {},
     "output_type": "execute_result"
    }
   ],
   "source": [
    "numbers.pop(-1)\n",
    "numbers"
   ]
  },
  {
   "cell_type": "code",
   "execution_count": 67,
   "id": "66cca1f8",
   "metadata": {},
   "outputs": [
    {
     "data": {
      "text/plain": [
       "[9, 19, 68, 68, 72, 14, -9]"
      ]
     },
     "execution_count": 67,
     "metadata": {},
     "output_type": "execute_result"
    }
   ],
   "source": [
    "numbers.extend([72, 14, -9])\n",
    "numbers"
   ]
  },
  {
   "cell_type": "code",
   "execution_count": null,
   "id": "6398749b",
   "metadata": {},
   "outputs": [],
   "source": []
  },
  {
   "cell_type": "code",
   "execution_count": null,
   "id": "1608a032",
   "metadata": {},
   "outputs": [],
   "source": []
  },
  {
   "cell_type": "code",
   "execution_count": null,
   "id": "cab25b35",
   "metadata": {},
   "outputs": [],
   "source": []
  },
  {
   "cell_type": "markdown",
   "id": "a175d417",
   "metadata": {},
   "source": []
  }
 ],
 "metadata": {
  "kernelspec": {
   "display_name": "Python 3",
   "language": "python",
   "name": "python3"
  },
  "language_info": {
   "codemirror_mode": {
    "name": "ipython",
    "version": 3
   },
   "file_extension": ".py",
   "mimetype": "text/x-python",
   "name": "python",
   "nbconvert_exporter": "python",
   "pygments_lexer": "ipython3",
   "version": "3.8.8"
  },
  "varInspector": {
   "cols": {
    "lenName": 16,
    "lenType": 16,
    "lenVar": 40
   },
   "kernels_config": {
    "python": {
     "delete_cmd_postfix": "",
     "delete_cmd_prefix": "del ",
     "library": "var_list.py",
     "varRefreshCmd": "print(var_dic_list())"
    },
    "r": {
     "delete_cmd_postfix": ") ",
     "delete_cmd_prefix": "rm(",
     "library": "var_list.r",
     "varRefreshCmd": "cat(var_dic_list()) "
    }
   },
   "types_to_exclude": [
    "module",
    "function",
    "builtin_function_or_method",
    "instance",
    "_Feature"
   ],
   "window_display": false
  }
 },
 "nbformat": 4,
 "nbformat_minor": 5
}
