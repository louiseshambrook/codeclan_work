{
 "cells": [
  {
   "cell_type": "code",
   "execution_count": 1,
   "id": "e70c8733",
   "metadata": {
    "scrolled": true
   },
   "outputs": [
    {
     "data": {
      "text/plain": [
       "6916"
      ]
     },
     "execution_count": 1,
     "metadata": {},
     "output_type": "execute_result"
    }
   ],
   "source": [
    "91 * 76"
   ]
  },
  {
   "cell_type": "markdown",
   "id": "da06499e",
   "metadata": {},
   "source": [
    "# This is markdown"
   ]
  },
  {
   "cell_type": "markdown",
   "id": "e605bb10",
   "metadata": {},
   "source": [
    "1. Command mode. [ blue box]\n",
    "1. Edit mode [green box]\n",
    "\n",
    "press <kbd> Esc </kbd>\n",
    "\n",
    "- navigate between cells (arrow keys)\n",
    "- delete cells (<kbd>d</kbd><kbd>d</kbd>)\n",
    "- add cells\n",
    "    - <kbd>b</kbd> below\n",
    "    - above <kbd>a</kbd>\n",
    "- copy, <kbd>c</kbd>, paste <kbd>v</kbd>\n",
    "- toggle <kbd>y</kbd>, <kbd>m</kbd> - changing cell between code and markdown. (code is y)\n",
    "- go into edit mode <kbd>Enter</kbd>\n",
    "  "
   ]
  },
  {
   "cell_type": "markdown",
   "id": "ed3a7afd",
   "metadata": {},
   "source": [
    "\n"
   ]
  }
 ],
 "metadata": {
  "kernelspec": {
   "display_name": "Python 3",
   "language": "python",
   "name": "python3"
  },
  "language_info": {
   "codemirror_mode": {
    "name": "ipython",
    "version": 3
   },
   "file_extension": ".py",
   "mimetype": "text/x-python",
   "name": "python",
   "nbconvert_exporter": "python",
   "pygments_lexer": "ipython3",
   "version": "3.8.8"
  },
  "varInspector": {
   "cols": {
    "lenName": 16,
    "lenType": 16,
    "lenVar": 40
   },
   "kernels_config": {
    "python": {
     "delete_cmd_postfix": "",
     "delete_cmd_prefix": "del ",
     "library": "var_list.py",
     "varRefreshCmd": "print(var_dic_list())"
    },
    "r": {
     "delete_cmd_postfix": ") ",
     "delete_cmd_prefix": "rm(",
     "library": "var_list.r",
     "varRefreshCmd": "cat(var_dic_list()) "
    }
   },
   "types_to_exclude": [
    "module",
    "function",
    "builtin_function_or_method",
    "instance",
    "_Feature"
   ],
   "window_display": false
  }
 },
 "nbformat": 4,
 "nbformat_minor": 5
}
